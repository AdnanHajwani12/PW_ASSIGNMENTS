{
  "nbformat": 4,
  "nbformat_minor": 0,
  "metadata": {
    "colab": {
      "provenance": []
    },
    "kernelspec": {
      "name": "python3",
      "display_name": "Python 3"
    },
    "language_info": {
      "name": "python"
    }
  },
  "cells": [
    {
      "cell_type": "markdown",
      "source": [
        "#Q1\n",
        "1.Tasks to Be Performed:\n",
        "\n",
        "\n",
        "1 Based on what you have learnt in the class, do the following steps: **bold text**"
      ],
      "metadata": {
        "id": "GIJKMbE1U-cY"
      }
    },
    {
      "cell_type": "markdown",
      "source": [
        "  a. Create a new folder\n",
        "\n",
        "  mkdir Myproject"
      ],
      "metadata": {
        "id": "EJ49_XlcVBxY"
      }
    },
    {
      "cell_type": "markdown",
      "source": [
        "  b. Put the following files in the folder :\n",
        "   Code.txt | Log.txt | Output.txt\n",
        "\n",
        "\n",
        "cd MyProject\n",
        "\n",
        "touch Code.txt Log.txt Output.txt\n",
        "\n"
      ],
      "metadata": {
        "id": "ikVvOHrzVddA"
      }
    },
    {
      "cell_type": "markdown",
      "source": [
        "   c. Stage the Code.txt and Output.txt files\n",
        "\n",
        "   git init\n",
        "   \n",
        "   git add Code.txt Output.txt"
      ],
      "metadata": {
        "id": "lnGxzGqRWgwS"
      }
    },
    {
      "cell_type": "markdown",
      "source": [
        " d. Commit them\n",
        "\n",
        "git commit -m \"Added Code.txt and Output.txt files\""
      ],
      "metadata": {
        "id": "uZSCN9snWruR"
      }
    },
    {
      "cell_type": "markdown",
      "source": [
        "e.Push them to GitHub\n",
        "\n",
        "- First, create a new repository on GitHub named \"MyProject\"\n",
        "- Copy the remote URL and run:\n",
        "    \n",
        "    bash: git remote add origin https://github.com/AdnanHajwani12/MyProject.git\n",
        "    \n",
        "git branch -M main\n",
        "    \n",
        "git push -u origin main"
      ],
      "metadata": {
        "id": "WO8aWXZ1Xflp"
      }
    },
    {
      "cell_type": "markdown",
      "source": [],
      "metadata": {
        "id": "KnxM3iabYBKp"
      }
    },
    {
      "cell_type": "markdown",
      "source": [
        "# Q2\n",
        "\n",
        "Tasks to Be Performed:"
      ],
      "metadata": {
        "id": "2ofcIjJXYGWo"
      }
    },
    {
      "cell_type": "markdown",
      "source": [
        "1. ***Create a Git working directory with feature1.txt and feature2.txt in the master branch ***\n",
        "\n",
        "          mkdir Git-Project\n",
        "\n",
        "          cd Git-Project\n",
        "          \n",
        "          git init\n",
        "          \n",
        "          touch feature1.txt feature2.txt\n",
        "          \n",
        "          echo \"This is feature 1\" > feature1.txt\n",
        "          \n",
        "          echo \"This is feature 2\" > feature2.txt\n",
        "          \n",
        "          git add feature1.txt feature2.txt\n",
        "          \n",
        "          git commit -m \"Add feature1.txt and feature2.txt to master\""
      ],
      "metadata": {
        "id": "dX6-4MiYYRNh"
      }
    },
    {
      "cell_type": "markdown",
      "source": [
        "2. Create 3 branches develop, feature1 and feature2\n",
        "\n",
        "          git branch develop\n",
        "          git branch feature1\n",
        "          git branch feature2"
      ],
      "metadata": {
        "id": "qRW6oN2JY5Jx"
      }
    },
    {
      "cell_type": "markdown",
      "source": [
        "3. In develop branch create develop.txt, do not stage or commit it\n",
        "\n",
        "          git checkout develop\n",
        "          touch develop.txt\n",
        "          echo \"Development in progress\" > develop.txt\n"
      ],
      "metadata": {
        "id": "hs70t5FBZBjp"
      }
    },
    {
      "cell_type": "markdown",
      "source": [
        "4. Stash this file and check out to feature1 branch\n",
        "\n",
        "          git stash\n",
        "          git checkout feature1"
      ],
      "metadata": {
        "id": "1HV8AayWZIlA"
      }
    },
    {
      "cell_type": "markdown",
      "source": [
        "5. Create new.txt file in feature1 branch, stage and commit this file\n",
        "\n",
        "          touch new.txt\n",
        "          echo \"This is new feature work\" > new.txt\n",
        "          git add new.txt\n",
        "          git commit -m \"Add new.txt to feature1 branch\""
      ],
      "metadata": {
        "id": "5jK-knEPZPPJ"
      }
    },
    {
      "cell_type": "markdown",
      "source": [
        "6. Checkout to develop, unstash this file and commit\n",
        "\n",
        "          git checkout develop\n",
        "          git stash pop\n",
        "          git add develop.txt\n",
        "          git commit -m \"Add develop.txt after unstashing\"\n"
      ],
      "metadata": {
        "id": "3ZjIKZjDZVex"
      }
    },
    {
      "cell_type": "markdown",
      "source": [
        "# Q3\n",
        "Tasks to Be Performed:"
      ],
      "metadata": {
        "id": "8voyzchnZlWK"
      }
    },
    {
      "cell_type": "markdown",
      "source": [
        "1. Create a Git working directory, with the following branches: Develop|F1|f2\n",
        "\n",
        "          mkdir Git-MultiBranch-Task\n",
        "          cd Git-MultiBranch-Task\n",
        "          git init"
      ],
      "metadata": {
        "id": "JdzCJrAbZsJ6"
      }
    },
    {
      "cell_type": "markdown",
      "source": [
        "2. In the master branch, commit main.txt file\n",
        "\n",
        "          touch main.txt\n",
        "          echo \"This is the main file\" > main.txt\n",
        "          git add main.txt\n",
        "          git commit -m \"Add main.txt to master\""
      ],
      "metadata": {
        "id": "PvyZzqzZZ6T6"
      }
    },
    {
      "cell_type": "markdown",
      "source": [
        "3. Put develop.txt in develop branch, f1.txt and f2.txt in f1 and f2 respectively\n",
        "\n",
        "\n",
        "          git checkout -b develop\n",
        "          touch develop.txt\n",
        "          echo \"This is the develop branch file\" > develop.txt\n",
        "          git add develop.txt\n",
        "          git commit -m \"Add develop.txt to develop branch\"\n",
        "\n",
        "          git checkout -b f1\n",
        "          touch f1.txt\n",
        "          echo \"This is F1 branch file\" > f1.txt\n",
        "          git add f1.txt\n",
        "          git commit -m \"Add f1.txt to f1 branch\"\n",
        "\n",
        "          git checkout -b f2\n",
        "          touch f2.txt\n",
        "          echo \"This is F2 branch file\" > f2.txt\n",
        "          git add f2.txt\n",
        "          git commit -m \"Add f2.txt to f2 branch\""
      ],
      "metadata": {
        "id": "GdMbOgr4aB6B"
      }
    },
    {
      "cell_type": "markdown",
      "source": [
        "4. Push all these branches to GitHub\n",
        "\n",
        "          git remote add origin https://github.com/YOUR_USERNAME/YOUR_REPO_NAME.git\n",
        "          git push -u origin master\n",
        "          git push -u origin develop\n",
        "          git push -u origin f1\n",
        "          git push -u origin f2"
      ],
      "metadata": {
        "id": "Y8vni3qRaI9q"
      }
    },
    {
      "cell_type": "markdown",
      "source": [
        "5. On local delete f2 branch\n",
        "\n",
        "          git branch -d f2\n",
        "          git push origin --delete f2"
      ],
      "metadata": {
        "id": "px3ZCBJDaSV5"
      }
    },
    {
      "cell_type": "markdown",
      "source": [
        "# Q4\n",
        "Tasks to Be Performed:"
      ],
      "metadata": {
        "id": "Yu66NjU4absS"
      }
    },
    {
      "cell_type": "markdown",
      "source": [
        "1. Put master.txt on master branch, stage and commit\n",
        "\n",
        "\n",
        "     git checkout master\n",
        "\n",
        "     echo \"This is master.txt\" > master.txt\n",
        "     \n",
        "     git add master.txt\n",
        "     \n",
        "     git commit -m \"Add master.txt to master\"\n",
        "\n",
        "     "
      ],
      "metadata": {
        "id": "T1zyQ-Z1akSp"
      }
    },
    {
      "cell_type": "markdown",
      "source": [
        "2. Create 3 branches: public 1, public 2 and private\n",
        "\n",
        "\n",
        "    git branch public1\n",
        "    git branch public2\n",
        "    git branch private"
      ],
      "metadata": {
        "id": "ELRE89qxbA0h"
      }
    },
    {
      "cell_type": "markdown",
      "source": [
        "3. Put public1.txt on public 1 branch, stage and commit\n",
        "\n",
        "     \n",
        "     git checkout public1\n",
        "     echo \"This is public1.txt\" > public1.txt\n",
        "     git add public1.txt\n",
        "     git commit -m \"Add public1.txt to public1\""
      ],
      "metadata": {
        "id": "ba0BmkAOeR7z"
      }
    },
    {
      "cell_type": "markdown",
      "source": [
        "4. Merge public 1 on master branch\n",
        "\n",
        "\n",
        "    git checkout master\n",
        "    git merge public1 -m \"Merge public1 into master\""
      ],
      "metadata": {
        "id": "WZOp4bhsebjb"
      }
    },
    {
      "cell_type": "markdown",
      "source": [
        "5.Merge public 2 on master branch\n",
        "\n",
        "\n",
        "    git checkout master\n",
        "    git merge public1 -m \"Merge public2 into master\""
      ],
      "metadata": {
        "id": "dt-TUWNCeiuz"
      }
    },
    {
      "cell_type": "markdown",
      "source": [
        "6. Edit master.txt on private branch, stage and commit\n",
        "\n",
        "\n",
        "    git checkout private\n",
        "    echo \"Updated by private branch\" >> master.txt\n",
        "    git add master.txt\n",
        "    git commit -m \"Edit master.txt on private branch\""
      ],
      "metadata": {
        "id": "O7nI1_2Ieqk7"
      }
    },
    {
      "cell_type": "markdown",
      "source": [
        "7. Now update branch public 1 and public 2 with new master code in private\n",
        "\n",
        "\n",
        "\n",
        "    git checkout public1\n",
        "    git merge private -m \"Update public1 with private changes\"\n",
        "\n",
        "    git checkout public2\n",
        "    git merge private -m \"Update public2 with private changes\""
      ],
      "metadata": {
        "id": "OwgS6EnDevFh"
      }
    },
    {
      "cell_type": "markdown",
      "source": [
        "8. Also update new master code on master\n",
        "\n",
        "\n",
        "    git checkout master\n",
        "    git merge private -m \"Update master with private changes\""
      ],
      "metadata": {
        "id": "6s1Afe-Ne2Hb"
      }
    },
    {
      "cell_type": "markdown",
      "source": [
        "9. Finally update all the code on the private branch\n",
        "\n",
        "\n",
        "    git checkout private\n",
        "    git merge master -m \"Update private with latest master code\""
      ],
      "metadata": {
        "id": "yuBzhMche98j"
      }
    },
    {
      "cell_type": "markdown",
      "source": [
        "# Q5\n",
        "\n",
        "Tasks to Be Performed:"
      ],
      "metadata": {
        "id": "tO_lSsemfD6i"
      }
    },
    {
      "cell_type": "markdown",
      "source": [
        "1. Create a Git Flow workflow architecture on Git\n",
        "\n",
        "Git Flow is a branching model for Git that helps manage features, releases, and hotfixes systematically. It consists of the following main branches:\n",
        "\n",
        "    - **`master`** – production-ready code\n",
        "    - **`develop`** – integration branch for features\n",
        "    - **`feature/*`** – for new features\n",
        "    - **`release/*`** – for preparing new production releases\n",
        "    - **`hotfix/*`** – for urgent fixes"
      ],
      "metadata": {
        "id": "Ztbn2E8SfJ_i"
      }
    },
    {
      "cell_type": "markdown",
      "source": [
        "2. Create all the required branches\n",
        "\n",
        "\n",
        "    git init git-flow-project\n",
        "    cd git-flow-project\n",
        "\n",
        " - **Create main branches:**\n",
        "\n",
        "    ```bash\n",
        "    git checkout -b master\n",
        "    git checkout -b develop\n",
        "    ```\n",
        "\n",
        "- **Push the branches to the remote:**\n",
        "\n",
        "    ```bash\n",
        "    git remote add origin <your-repo-URL>\n",
        "    git push -u origin master\n",
        "    git push -u origin develop\n",
        "    ```"
      ],
      "metadata": {
        "id": "hbVda25VfXr6"
      }
    },
    {
      "cell_type": "markdown",
      "source": [
        "3. starting from e feature branch, push the branch to the master, following the architecture\n",
        "\n",
        "\n",
        "\n"
      ],
      "metadata": {
        "id": "cY4J7RtgfeaC"
      }
    }
  ]
}